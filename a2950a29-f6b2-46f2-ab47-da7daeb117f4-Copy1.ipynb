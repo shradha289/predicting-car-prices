{
 "cells": [
  {
   "cell_type": "markdown",
   "metadata": {},
   "source": [
    "Rusty Bargain used car sales service is developing an app to attract new customers. In that app, you can quickly find out the market value of your car. You have access to historical data: technical specifications, trim versions, and prices. You need to build the model to determine the value. \n",
    "\n",
    "Rusty Bargain is interested in:\n",
    "\n",
    "- the quality of the prediction;\n",
    "- the speed of the prediction;\n",
    "- the time required for training"
   ]
  },
  {
   "cell_type": "markdown",
   "metadata": {},
   "source": [
    "# 1. Data preparation"
   ]
  },
  {
   "cell_type": "code",
   "execution_count": 1,
   "metadata": {},
   "outputs": [],
   "source": [
    "import pandas as pd\n",
    "import numpy as np\n",
    "import xgboost as xgb\n",
    "from sklearn.model_selection import train_test_split\n",
    "from sklearn.preprocessing import StandardScaler\n",
    "from sklearn.metrics import mean_squared_error\n",
    "from sklearn.ensemble import RandomForestRegressor\n",
    "from sklearn.linear_model import LinearRegression\n",
    "import lightgbm as lgb\n",
    "from catboost import CatBoostRegressor"
   ]
  },
  {
   "cell_type": "code",
   "execution_count": 2,
   "metadata": {},
   "outputs": [
    {
     "data": {
      "text/html": [
       "<div>\n",
       "<style scoped>\n",
       "    .dataframe tbody tr th:only-of-type {\n",
       "        vertical-align: middle;\n",
       "    }\n",
       "\n",
       "    .dataframe tbody tr th {\n",
       "        vertical-align: top;\n",
       "    }\n",
       "\n",
       "    .dataframe thead th {\n",
       "        text-align: right;\n",
       "    }\n",
       "</style>\n",
       "<table border=\"1\" class=\"dataframe\">\n",
       "  <thead>\n",
       "    <tr style=\"text-align: right;\">\n",
       "      <th></th>\n",
       "      <th>DateCrawled</th>\n",
       "      <th>Price</th>\n",
       "      <th>VehicleType</th>\n",
       "      <th>RegistrationYear</th>\n",
       "      <th>Gearbox</th>\n",
       "      <th>Power</th>\n",
       "      <th>Model</th>\n",
       "      <th>Mileage</th>\n",
       "      <th>RegistrationMonth</th>\n",
       "      <th>FuelType</th>\n",
       "      <th>Brand</th>\n",
       "      <th>NotRepaired</th>\n",
       "      <th>DateCreated</th>\n",
       "      <th>NumberOfPictures</th>\n",
       "      <th>PostalCode</th>\n",
       "      <th>LastSeen</th>\n",
       "    </tr>\n",
       "  </thead>\n",
       "  <tbody>\n",
       "    <tr>\n",
       "      <td>0</td>\n",
       "      <td>24/03/2016 11:52</td>\n",
       "      <td>480</td>\n",
       "      <td>NaN</td>\n",
       "      <td>1993</td>\n",
       "      <td>manual</td>\n",
       "      <td>0</td>\n",
       "      <td>golf</td>\n",
       "      <td>150000</td>\n",
       "      <td>0</td>\n",
       "      <td>petrol</td>\n",
       "      <td>volkswagen</td>\n",
       "      <td>NaN</td>\n",
       "      <td>24/03/2016 00:00</td>\n",
       "      <td>0</td>\n",
       "      <td>70435</td>\n",
       "      <td>07/04/2016 03:16</td>\n",
       "    </tr>\n",
       "    <tr>\n",
       "      <td>1</td>\n",
       "      <td>24/03/2016 10:58</td>\n",
       "      <td>18300</td>\n",
       "      <td>coupe</td>\n",
       "      <td>2011</td>\n",
       "      <td>manual</td>\n",
       "      <td>190</td>\n",
       "      <td>NaN</td>\n",
       "      <td>125000</td>\n",
       "      <td>5</td>\n",
       "      <td>gasoline</td>\n",
       "      <td>audi</td>\n",
       "      <td>yes</td>\n",
       "      <td>24/03/2016 00:00</td>\n",
       "      <td>0</td>\n",
       "      <td>66954</td>\n",
       "      <td>07/04/2016 01:46</td>\n",
       "    </tr>\n",
       "    <tr>\n",
       "      <td>2</td>\n",
       "      <td>14/03/2016 12:52</td>\n",
       "      <td>9800</td>\n",
       "      <td>suv</td>\n",
       "      <td>2004</td>\n",
       "      <td>auto</td>\n",
       "      <td>163</td>\n",
       "      <td>grand</td>\n",
       "      <td>125000</td>\n",
       "      <td>8</td>\n",
       "      <td>gasoline</td>\n",
       "      <td>jeep</td>\n",
       "      <td>NaN</td>\n",
       "      <td>14/03/2016 00:00</td>\n",
       "      <td>0</td>\n",
       "      <td>90480</td>\n",
       "      <td>05/04/2016 12:47</td>\n",
       "    </tr>\n",
       "    <tr>\n",
       "      <td>3</td>\n",
       "      <td>17/03/2016 16:54</td>\n",
       "      <td>1500</td>\n",
       "      <td>small</td>\n",
       "      <td>2001</td>\n",
       "      <td>manual</td>\n",
       "      <td>75</td>\n",
       "      <td>golf</td>\n",
       "      <td>150000</td>\n",
       "      <td>6</td>\n",
       "      <td>petrol</td>\n",
       "      <td>volkswagen</td>\n",
       "      <td>no</td>\n",
       "      <td>17/03/2016 00:00</td>\n",
       "      <td>0</td>\n",
       "      <td>91074</td>\n",
       "      <td>17/03/2016 17:40</td>\n",
       "    </tr>\n",
       "    <tr>\n",
       "      <td>4</td>\n",
       "      <td>31/03/2016 17:25</td>\n",
       "      <td>3600</td>\n",
       "      <td>small</td>\n",
       "      <td>2008</td>\n",
       "      <td>manual</td>\n",
       "      <td>69</td>\n",
       "      <td>fabia</td>\n",
       "      <td>90000</td>\n",
       "      <td>7</td>\n",
       "      <td>gasoline</td>\n",
       "      <td>skoda</td>\n",
       "      <td>no</td>\n",
       "      <td>31/03/2016 00:00</td>\n",
       "      <td>0</td>\n",
       "      <td>60437</td>\n",
       "      <td>06/04/2016 10:17</td>\n",
       "    </tr>\n",
       "  </tbody>\n",
       "</table>\n",
       "</div>"
      ],
      "text/plain": [
       "        DateCrawled  Price VehicleType  RegistrationYear Gearbox  Power  \\\n",
       "0  24/03/2016 11:52    480         NaN              1993  manual      0   \n",
       "1  24/03/2016 10:58  18300       coupe              2011  manual    190   \n",
       "2  14/03/2016 12:52   9800         suv              2004    auto    163   \n",
       "3  17/03/2016 16:54   1500       small              2001  manual     75   \n",
       "4  31/03/2016 17:25   3600       small              2008  manual     69   \n",
       "\n",
       "   Model  Mileage  RegistrationMonth  FuelType       Brand NotRepaired  \\\n",
       "0   golf   150000                  0    petrol  volkswagen         NaN   \n",
       "1    NaN   125000                  5  gasoline        audi         yes   \n",
       "2  grand   125000                  8  gasoline        jeep         NaN   \n",
       "3   golf   150000                  6    petrol  volkswagen          no   \n",
       "4  fabia    90000                  7  gasoline       skoda          no   \n",
       "\n",
       "        DateCreated  NumberOfPictures  PostalCode          LastSeen  \n",
       "0  24/03/2016 00:00                 0       70435  07/04/2016 03:16  \n",
       "1  24/03/2016 00:00                 0       66954  07/04/2016 01:46  \n",
       "2  14/03/2016 00:00                 0       90480  05/04/2016 12:47  \n",
       "3  17/03/2016 00:00                 0       91074  17/03/2016 17:40  \n",
       "4  31/03/2016 00:00                 0       60437  06/04/2016 10:17  "
      ]
     },
     "execution_count": 2,
     "metadata": {},
     "output_type": "execute_result"
    }
   ],
   "source": [
    "data=pd.read_csv('/datasets/car_data.csv')\n",
    "data.head()"
   ]
  },
  {
   "cell_type": "code",
   "execution_count": 3,
   "metadata": {},
   "outputs": [
    {
     "name": "stdout",
     "output_type": "stream",
     "text": [
      "<class 'pandas.core.frame.DataFrame'>\n",
      "RangeIndex: 354369 entries, 0 to 354368\n",
      "Data columns (total 16 columns):\n",
      "DateCrawled          354369 non-null object\n",
      "Price                354369 non-null int64\n",
      "VehicleType          316879 non-null object\n",
      "RegistrationYear     354369 non-null int64\n",
      "Gearbox              334536 non-null object\n",
      "Power                354369 non-null int64\n",
      "Model                334664 non-null object\n",
      "Mileage              354369 non-null int64\n",
      "RegistrationMonth    354369 non-null int64\n",
      "FuelType             321474 non-null object\n",
      "Brand                354369 non-null object\n",
      "NotRepaired          283215 non-null object\n",
      "DateCreated          354369 non-null object\n",
      "NumberOfPictures     354369 non-null int64\n",
      "PostalCode           354369 non-null int64\n",
      "LastSeen             354369 non-null object\n",
      "dtypes: int64(7), object(9)\n",
      "memory usage: 43.3+ MB\n"
     ]
    }
   ],
   "source": [
    "data.info()"
   ]
  },
  {
   "cell_type": "markdown",
   "metadata": {},
   "source": [
    "converting dates to pandas datetime"
   ]
  },
  {
   "cell_type": "code",
   "execution_count": 4,
   "metadata": {},
   "outputs": [],
   "source": [
    "data['DateCrawled']=pd.to_datetime(data['DateCrawled'],format='%d/%m/%Y %H:%M')"
   ]
  },
  {
   "cell_type": "code",
   "execution_count": 5,
   "metadata": {},
   "outputs": [],
   "source": [
    "data['DateCrawled']=data['DateCrawled'].astype(int)"
   ]
  },
  {
   "cell_type": "code",
   "execution_count": 6,
   "metadata": {},
   "outputs": [],
   "source": [
    "data['LastSeen']=pd.to_datetime(data['LastSeen'],format='%d/%m/%Y %H:%M')\n",
    "data['LastSeen']=data['LastSeen'].astype('int')"
   ]
  },
  {
   "cell_type": "markdown",
   "metadata": {},
   "source": [
    "Removing anomalies"
   ]
  },
  {
   "cell_type": "code",
   "execution_count": 7,
   "metadata": {},
   "outputs": [
    {
     "data": {
      "text/plain": [
       "0.030397692800442477"
      ]
     },
     "execution_count": 7,
     "metadata": {},
     "output_type": "execute_result"
    }
   ],
   "source": [
    "(data['Price']==0).sum()/len(data)"
   ]
  },
  {
   "cell_type": "code",
   "execution_count": 8,
   "metadata": {},
   "outputs": [],
   "source": [
    "data=data[data['Price']>0]         #Removing incorrect values for Price"
   ]
  },
  {
   "cell_type": "code",
   "execution_count": 9,
   "metadata": {},
   "outputs": [
    {
     "data": {
      "text/plain": [
       "0.025972287301693552"
      ]
     },
     "execution_count": 9,
     "metadata": {},
     "output_type": "execute_result"
    }
   ],
   "source": [
    "(data['RegistrationYear']<1990).sum()/len(data['RegistrationYear'])"
   ]
  },
  {
   "cell_type": "code",
   "execution_count": 10,
   "metadata": {},
   "outputs": [
    {
     "data": {
      "text/plain": [
       "0.00025029322141927897"
      ]
     },
     "execution_count": 10,
     "metadata": {},
     "output_type": "execute_result"
    }
   ],
   "source": [
    "(data['RegistrationYear']>2020).sum()/len(data['RegistrationYear'])"
   ]
  },
  {
   "cell_type": "code",
   "execution_count": 11,
   "metadata": {},
   "outputs": [],
   "source": [
    "data=data[(data['RegistrationYear']<=2020) & (data['RegistrationYear']>=1990)] "
   ]
  },
  {
   "cell_type": "code",
   "execution_count": 12,
   "metadata": {},
   "outputs": [],
   "source": [
    "#data['RegistrationYear'].value_counts()"
   ]
  },
  {
   "cell_type": "code",
   "execution_count": 13,
   "metadata": {},
   "outputs": [
    {
     "data": {
      "text/plain": [
       "40"
      ]
     },
     "execution_count": 13,
     "metadata": {},
     "output_type": "execute_result"
    }
   ],
   "source": [
    "len(data['Brand'].value_counts())"
   ]
  },
  {
   "cell_type": "code",
   "execution_count": 14,
   "metadata": {},
   "outputs": [
    {
     "data": {
      "text/plain": [
       "volkswagen        72254\n",
       "opel              37910\n",
       "bmw               35124\n",
       "mercedes_benz     29815\n",
       "audi              28107\n",
       "ford              23982\n",
       "renault           17265\n",
       "peugeot           10736\n",
       "fiat               9041\n",
       "seat               6711\n",
       "mazda              5422\n",
       "skoda              5409\n",
       "smart              5171\n",
       "citroen            4879\n",
       "nissan             4760\n",
       "toyota             4478\n",
       "hyundai            3531\n",
       "mini               3138\n",
       "volvo              3013\n",
       "mitsubishi         2899\n",
       "honda              2668\n",
       "kia                2406\n",
       "suzuki             2203\n",
       "alfa_romeo         2136\n",
       "sonstige_autos     1995\n",
       "chevrolet          1508\n",
       "chrysler           1331\n",
       "dacia               890\n",
       "daihatsu            769\n",
       "subaru              721\n",
       "jeep                608\n",
       "porsche             566\n",
       "daewoo              532\n",
       "land_rover          491\n",
       "saab                490\n",
       "jaguar              454\n",
       "rover               454\n",
       "lancia              427\n",
       "lada                180\n",
       "trabant             113\n",
       "Name: Brand, dtype: int64"
      ]
     },
     "execution_count": 14,
     "metadata": {},
     "output_type": "execute_result"
    }
   ],
   "source": [
    "#data['Brand'].value_counts()"
   ]
  },
  {
   "cell_type": "code",
   "execution_count": 15,
   "metadata": {},
   "outputs": [],
   "source": [
    "brand=data['Brand'].value_counts().reset_index().loc[9:,'index'].to_list()"
   ]
  },
  {
   "cell_type": "markdown",
   "metadata": {},
   "source": [
    "Function to categorise Model column"
   ]
  },
  {
   "cell_type": "code",
   "execution_count": 16,
   "metadata": {},
   "outputs": [],
   "source": [
    "def model(row):\n",
    "    if row['Brand'] in brand:\n",
    "        return row['Brand']\n",
    "    return row['Model']\n",
    "data['Model']=data.apply(model,axis=1)"
   ]
  },
  {
   "cell_type": "code",
   "execution_count": 17,
   "metadata": {},
   "outputs": [
    {
     "data": {
      "text/plain": [
       "133"
      ]
     },
     "execution_count": 17,
     "metadata": {},
     "output_type": "execute_result"
    }
   ],
   "source": [
    "len(data['Model'].value_counts())"
   ]
  },
  {
   "cell_type": "code",
   "execution_count": 18,
   "metadata": {},
   "outputs": [],
   "source": [
    "lt=data['Model'].value_counts().reset_index().loc[90:,'index'].to_list()\n",
    "data.loc[data['Model'].isin(lt),'Model']='other'"
   ]
  },
  {
   "cell_type": "code",
   "execution_count": 19,
   "metadata": {},
   "outputs": [
    {
     "data": {
      "text/plain": [
       "other             48437\n",
       "golf              27459\n",
       "3er               18817\n",
       "polo              12507\n",
       "corsa             12167\n",
       "peugeot           10736\n",
       "astra             10470\n",
       "passat             9754\n",
       "a4                 9638\n",
       "fiat               9041\n",
       "c_klasse           8155\n",
       "5er                7552\n",
       "seat               6711\n",
       "e_klasse           6376\n",
       "a3                 6024\n",
       "focus              5750\n",
       "fiesta             5623\n",
       "mazda              5422\n",
       "skoda              5409\n",
       "a6                 5368\n",
       "smart              5171\n",
       "citroen            4879\n",
       "twingo             4816\n",
       "nissan             4760\n",
       "toyota             4478\n",
       "transporter        4310\n",
       "a_klasse           4130\n",
       "vectra             4087\n",
       "hyundai            3531\n",
       "1er                3495\n",
       "mondeo             3482\n",
       "clio               3455\n",
       "touran             3428\n",
       "mini               3138\n",
       "volvo              3013\n",
       "zafira             2990\n",
       "mitsubishi         2899\n",
       "megane             2802\n",
       "honda              2668\n",
       "ka                 2610\n",
       "lupo               2534\n",
       "kia                2406\n",
       "suzuki             2203\n",
       "alfa_romeo         2136\n",
       "sonstige_autos     1995\n",
       "clk                1783\n",
       "x_reihe            1570\n",
       "caddy              1519\n",
       "chevrolet          1508\n",
       "sharan             1454\n",
       "Name: Model, dtype: int64"
      ]
     },
     "execution_count": 19,
     "metadata": {},
     "output_type": "execute_result"
    }
   ],
   "source": [
    "#data['Model'].value_counts()"
   ]
  },
  {
   "cell_type": "code",
   "execution_count": 20,
   "metadata": {},
   "outputs": [
    {
     "data": {
      "text/plain": [
       "19"
      ]
     },
     "execution_count": 20,
     "metadata": {},
     "output_type": "execute_result"
    }
   ],
   "source": [
    "lt=data['Brand'].value_counts().reset_index().loc[24:,'index'].to_list()\n",
    "#print(lt)\n",
    "data.loc[data['Brand'].isin(lt),'Brand']='other'\n",
    "len(data['Brand'].value_counts())"
   ]
  },
  {
   "cell_type": "code",
   "execution_count": 21,
   "metadata": {},
   "outputs": [
    {
     "data": {
      "text/plain": [
       "51"
      ]
     },
     "execution_count": 21,
     "metadata": {},
     "output_type": "execute_result"
    }
   ],
   "source": [
    "len(data['Model'].unique())"
   ]
  },
  {
   "cell_type": "code",
   "execution_count": 22,
   "metadata": {},
   "outputs": [
    {
     "data": {
      "text/plain": [
       "13"
      ]
     },
     "execution_count": 22,
     "metadata": {},
     "output_type": "execute_result"
    }
   ],
   "source": [
    "len(data['Mileage'].unique())"
   ]
  },
  {
   "cell_type": "code",
   "execution_count": 23,
   "metadata": {},
   "outputs": [],
   "source": [
    "data=data[data['Power']>0]"
   ]
  },
  {
   "cell_type": "code",
   "execution_count": 24,
   "metadata": {},
   "outputs": [],
   "source": [
    "features=data.drop('Price',axis=1)\n",
    "target=data['Price']"
   ]
  },
  {
   "cell_type": "code",
   "execution_count": 25,
   "metadata": {},
   "outputs": [],
   "source": [
    "numerical_features=['Power']"
   ]
  },
  {
   "cell_type": "code",
   "execution_count": 26,
   "metadata": {},
   "outputs": [],
   "source": [
    " cat_features=['VehicleType',\n",
    "  'RegistrationYear',\n",
    "  'NumberOfPictures',             \n",
    "  'Mileage',\n",
    "  'RegistrationMonth',\n",
    "  'NotRepaired',\n",
    "  'FuelType',\n",
    "  'Gearbox','Brand',\n",
    "  'Model']"
   ]
  },
  {
   "cell_type": "markdown",
   "metadata": {},
   "source": [
    "Removing DateCreated, DateCrawled, LastSeen, PostalCode from features for model building as they are not informative of the car price. "
   ]
  },
  {
   "cell_type": "code",
   "execution_count": 27,
   "metadata": {},
   "outputs": [],
   "source": [
    "train_time=[]                      #we will store training time , \n",
    "pred_time=[]                       #prediction time and \n",
    "rmse=[]                             #rmse for each model in these lists"
   ]
  },
  {
   "cell_type": "markdown",
   "metadata": {},
   "source": [
    "# 2. Model training"
   ]
  },
  {
   "cell_type": "code",
   "execution_count": 28,
   "metadata": {},
   "outputs": [],
   "source": [
    "#ohe encoding for categorical features\n",
    "data_ohe=pd.get_dummies(data[cat_features],drop_first=True)"
   ]
  },
  {
   "cell_type": "code",
   "execution_count": 29,
   "metadata": {},
   "outputs": [],
   "source": [
    "features=pd.concat([data[numerical_features],data_ohe],axis=1)"
   ]
  },
  {
   "cell_type": "code",
   "execution_count": 30,
   "metadata": {},
   "outputs": [],
   "source": [
    "features_train,features_test,target_train,target_test = (train_test_split\n",
    "                                                (features,target,test_size=0.25,random_state=12345))"
   ]
  },
  {
   "cell_type": "code",
   "execution_count": 31,
   "metadata": {},
   "outputs": [],
   "source": [
    "del target, features, data_ohe"
   ]
  },
  {
   "cell_type": "markdown",
   "metadata": {},
   "source": [
    "#### Xgboost Model"
   ]
  },
  {
   "cell_type": "code",
   "execution_count": 32,
   "metadata": {},
   "outputs": [
    {
     "name": "stdout",
     "output_type": "stream",
     "text": [
      "CPU times: user 485 ms, sys: 221 ms, total: 705 ms\n",
      "Wall time: 720 ms\n"
     ]
    },
    {
     "name": "stderr",
     "output_type": "stream",
     "text": [
      "/opt/conda/lib/python3.7/site-packages/xgboost/core.py:587: FutureWarning: Series.base is deprecated and will be removed in a future version\n",
      "  if getattr(data, 'base', None) is not None and \\\n"
     ]
    }
   ],
   "source": [
    "%%time\n",
    "dtrain=xgb.DMatrix(features_train,label=target_train)\n",
    "dtest=xgb.DMatrix(features_test,target_test)\n",
    "param={'max_depth':2}\n",
    "watchlist = [(dtest, 'eval'), (dtrain, 'train')]"
   ]
  },
  {
   "cell_type": "code",
   "execution_count": 33,
   "metadata": {},
   "outputs": [],
   "source": [
    "del features_train, target_train, features_test"
   ]
  },
  {
   "cell_type": "code",
   "execution_count": 34,
   "metadata": {},
   "outputs": [
    {
     "name": "stdout",
     "output_type": "stream",
     "text": [
      "[0]\teval-rmse:5164.68\ttrain-rmse:5184.35\n",
      "[1]\teval-rmse:4247.58\ttrain-rmse:4267.1\n",
      "[2]\teval-rmse:3606.57\ttrain-rmse:3624.96\n",
      "[3]\teval-rmse:3194.32\ttrain-rmse:3210.29\n",
      "[4]\teval-rmse:2897.28\ttrain-rmse:2911.99\n",
      "[5]\teval-rmse:2736.67\ttrain-rmse:2751.48\n",
      "[6]\teval-rmse:2599.17\ttrain-rmse:2611.89\n",
      "[7]\teval-rmse:2516.39\ttrain-rmse:2525.57\n",
      "[8]\teval-rmse:2462.94\ttrain-rmse:2472.23\n",
      "[9]\teval-rmse:2400.91\ttrain-rmse:2408.68\n",
      "CPU times: user 13.1 s, sys: 326 ms, total: 13.4 s\n",
      "Wall time: 13.5 s\n"
     ]
    }
   ],
   "source": [
    "%time bst=xgb.train(params=param,dtrain=dtrain, evals=watchlist)"
   ]
  },
  {
   "cell_type": "code",
   "execution_count": 35,
   "metadata": {},
   "outputs": [],
   "source": [
    "train_time.append('16.9 s')"
   ]
  },
  {
   "cell_type": "code",
   "execution_count": 36,
   "metadata": {},
   "outputs": [],
   "source": [
    "del dtrain"
   ]
  },
  {
   "cell_type": "code",
   "execution_count": 37,
   "metadata": {},
   "outputs": [
    {
     "name": "stdout",
     "output_type": "stream",
     "text": [
      "CPU times: user 16 ms, sys: 0 ns, total: 16 ms\n",
      "Wall time: 3.17 ms\n"
     ]
    }
   ],
   "source": [
    "%time pred=bst.predict(dtest)"
   ]
  },
  {
   "cell_type": "code",
   "execution_count": 38,
   "metadata": {},
   "outputs": [],
   "source": [
    "pred_time.append('1.02 ms')"
   ]
  },
  {
   "cell_type": "code",
   "execution_count": 39,
   "metadata": {},
   "outputs": [
    {
     "data": {
      "text/plain": [
       "RegistrationYear           11\n",
       "Power                      10\n",
       "Mileage                     4\n",
       "VehicleType_convertible     2\n",
       "Model_transporter           1\n",
       "NotRepaired_yes             1\n",
       "FuelType_gasoline           1\n",
       "dtype: int64"
      ]
     },
     "execution_count": 39,
     "metadata": {},
     "output_type": "execute_result"
    }
   ],
   "source": [
    "#feature importances for xgboost\n",
    "dct=bst.get_fscore()\n",
    "pd.Series(dct,index=dct.keys())"
   ]
  },
  {
   "cell_type": "code",
   "execution_count": 40,
   "metadata": {},
   "outputs": [
    {
     "name": "stdout",
     "output_type": "stream",
     "text": [
      "CPU times: user 3.47 ms, sys: 154 µs, total: 3.63 ms\n",
      "Wall time: 1.93 ms\n"
     ]
    }
   ],
   "source": [
    "%time r=mean_squared_error(target_test,pred)**0.5"
   ]
  },
  {
   "cell_type": "code",
   "execution_count": 41,
   "metadata": {},
   "outputs": [],
   "source": [
    "rmse.append(r)"
   ]
  },
  {
   "cell_type": "code",
   "execution_count": 42,
   "metadata": {},
   "outputs": [
    {
     "name": "stdout",
     "output_type": "stream",
     "text": [
      "Rmse: 2400.909655748191\n"
     ]
    }
   ],
   "source": [
    "print('Rmse:',r)"
   ]
  },
  {
   "cell_type": "code",
   "execution_count": 43,
   "metadata": {},
   "outputs": [],
   "source": [
    "del target_test, dtest, r"
   ]
  },
  {
   "cell_type": "markdown",
   "metadata": {},
   "source": [
    "Feature preparation for Linear Regression and Random Forest"
   ]
  },
  {
   "cell_type": "code",
   "execution_count": 44,
   "metadata": {},
   "outputs": [],
   "source": [
    "data_ohe=pd.get_dummies(data[cat_features],drop_first=True)\n",
    "features=pd.concat([data[numerical_features],data_ohe],axis=1)"
   ]
  },
  {
   "cell_type": "code",
   "execution_count": 45,
   "metadata": {},
   "outputs": [],
   "source": [
    "target=data['Price']\n",
    "features_train,features_test,target_train,target_test=train_test_split(features,target,test_size=0.25,random_state=12345)"
   ]
  },
  {
   "cell_type": "code",
   "execution_count": 46,
   "metadata": {},
   "outputs": [],
   "source": [
    "del data_ohe, features, target"
   ]
  },
  {
   "cell_type": "markdown",
   "metadata": {},
   "source": [
    "#### Hyper parameter tuning for RandomForest"
   ]
  },
  {
   "cell_type": "code",
   "execution_count": 47,
   "metadata": {},
   "outputs": [
    {
     "name": "stdout",
     "output_type": "stream",
     "text": [
      "CPU times: user 195 ms, sys: 8 ms, total: 203 ms\n",
      "Wall time: 203 ms\n",
      "3203.345379684712\n",
      "CPU times: user 253 ms, sys: 8.03 ms, total: 261 ms\n",
      "Wall time: 261 ms\n",
      "2895.644901855599\n",
      "CPU times: user 313 ms, sys: 7.98 ms, total: 321 ms\n",
      "Wall time: 321 ms\n",
      "2595.8263280721953\n"
     ]
    }
   ],
   "source": [
    "for d in range(2,5):\n",
    "    model = RandomForestRegressor(max_depth=d,n_estimators=100,random_state=12345)\n",
    "    model.fit(features_train,target_train)\n",
    "    p=model.predict(features_test)\n",
    "    %time r=(mean_squared_error(target_test,model.predict(features_test)))**0.5 \n",
    "    print(r)"
   ]
  },
  {
   "cell_type": "code",
   "execution_count": 48,
   "metadata": {},
   "outputs": [
    {
     "name": "stdout",
     "output_type": "stream",
     "text": [
      "CPU times: user 17.2 s, sys: 43.5 ms, total: 17.3 s\n",
      "Wall time: 17.3 s\n",
      "50 2896.56315242023\n",
      "CPU times: user 20.8 s, sys: 83.5 ms, total: 20.9 s\n",
      "Wall time: 20.9 s\n",
      "60 2895.0639624566625\n",
      "CPU times: user 24.2 s, sys: 75.5 ms, total: 24.3 s\n",
      "Wall time: 24.4 s\n",
      "70 2895.7049566549354\n",
      "CPU times: user 28 s, sys: 51.6 ms, total: 28.1 s\n",
      "Wall time: 28.3 s\n",
      "80 2896.4974511687296\n",
      "CPU times: user 31.2 s, sys: 71.5 ms, total: 31.2 s\n",
      "Wall time: 31.4 s\n",
      "90 2895.4957189927813\n"
     ]
    }
   ],
   "source": [
    " for i in range(50,100,10):\n",
    "    model=RandomForestRegressor(max_depth=3,n_estimators=i,random_state=12345)\n",
    "    %time model.fit(features_train,target_train)\n",
    "    p=model.predict(features_test)\n",
    "    r=(mean_squared_error(target_test,model.predict(features_test)))**0.5 \n",
    "    print(i,r)\n"
   ]
  },
  {
   "cell_type": "markdown",
   "metadata": {},
   "source": [
    "#### RandomForest"
   ]
  },
  {
   "cell_type": "code",
   "execution_count": 49,
   "metadata": {},
   "outputs": [],
   "source": [
    "model=RandomForestRegressor(max_depth=3,n_estimators=60,random_state=12345)"
   ]
  },
  {
   "cell_type": "code",
   "execution_count": 50,
   "metadata": {},
   "outputs": [
    {
     "name": "stdout",
     "output_type": "stream",
     "text": [
      "CPU times: user 20.9 s, sys: 51.8 ms, total: 21 s\n",
      "Wall time: 21.1 s\n"
     ]
    },
    {
     "data": {
      "text/plain": [
       "RandomForestRegressor(bootstrap=True, criterion='mse', max_depth=3,\n",
       "                      max_features='auto', max_leaf_nodes=None,\n",
       "                      min_impurity_decrease=0.0, min_impurity_split=None,\n",
       "                      min_samples_leaf=1, min_samples_split=2,\n",
       "                      min_weight_fraction_leaf=0.0, n_estimators=60,\n",
       "                      n_jobs=None, oob_score=False, random_state=12345,\n",
       "                      verbose=0, warm_start=False)"
      ]
     },
     "execution_count": 50,
     "metadata": {},
     "output_type": "execute_result"
    }
   ],
   "source": [
    "%time model.fit(features_train,target_train)"
   ]
  },
  {
   "cell_type": "code",
   "execution_count": 51,
   "metadata": {},
   "outputs": [],
   "source": [
    "train_time.append('33.4 s')"
   ]
  },
  {
   "cell_type": "markdown",
   "metadata": {},
   "source": [
    "Feature importances for Random Forest"
   ]
  },
  {
   "cell_type": "code",
   "execution_count": 52,
   "metadata": {},
   "outputs": [],
   "source": [
    "df=pd.DataFrame(model.feature_importances_,columns=['imp'],index=features_train.columns.values)"
   ]
  },
  {
   "cell_type": "code",
   "execution_count": 53,
   "metadata": {},
   "outputs": [
    {
     "data": {
      "text/html": [
       "<div>\n",
       "<style scoped>\n",
       "    .dataframe tbody tr th:only-of-type {\n",
       "        vertical-align: middle;\n",
       "    }\n",
       "\n",
       "    .dataframe tbody tr th {\n",
       "        vertical-align: top;\n",
       "    }\n",
       "\n",
       "    .dataframe thead th {\n",
       "        text-align: right;\n",
       "    }\n",
       "</style>\n",
       "<table border=\"1\" class=\"dataframe\">\n",
       "  <thead>\n",
       "    <tr style=\"text-align: right;\">\n",
       "      <th></th>\n",
       "      <th>imp</th>\n",
       "    </tr>\n",
       "  </thead>\n",
       "  <tbody>\n",
       "    <tr>\n",
       "      <td>RegistrationYear</td>\n",
       "      <td>0.624576</td>\n",
       "    </tr>\n",
       "    <tr>\n",
       "      <td>Power</td>\n",
       "      <td>0.274463</td>\n",
       "    </tr>\n",
       "    <tr>\n",
       "      <td>Mileage</td>\n",
       "      <td>0.100961</td>\n",
       "    </tr>\n",
       "    <tr>\n",
       "      <td>Model_x_reihe</td>\n",
       "      <td>0.000000</td>\n",
       "    </tr>\n",
       "    <tr>\n",
       "      <td>Model_fiesta</td>\n",
       "      <td>0.000000</td>\n",
       "    </tr>\n",
       "    <tr>\n",
       "      <td>Model_mazda</td>\n",
       "      <td>0.000000</td>\n",
       "    </tr>\n",
       "  </tbody>\n",
       "</table>\n",
       "</div>"
      ],
      "text/plain": [
       "                       imp\n",
       "RegistrationYear  0.624576\n",
       "Power             0.274463\n",
       "Mileage           0.100961\n",
       "Model_x_reihe     0.000000\n",
       "Model_fiesta      0.000000\n",
       "Model_mazda       0.000000"
      ]
     },
     "execution_count": 53,
     "metadata": {},
     "output_type": "execute_result"
    }
   ],
   "source": [
    "df.sort_values('imp',ascending=False).head(6)   "
   ]
  },
  {
   "cell_type": "code",
   "execution_count": 54,
   "metadata": {},
   "outputs": [
    {
     "name": "stdout",
     "output_type": "stream",
     "text": [
      "CPU times: user 155 ms, sys: 19.9 ms, total: 175 ms\n",
      "Wall time: 185 ms\n"
     ]
    }
   ],
   "source": [
    "%time pred=model.predict(features_test)"
   ]
  },
  {
   "cell_type": "code",
   "execution_count": 55,
   "metadata": {},
   "outputs": [],
   "source": [
    "pred_time.append('218 ms')"
   ]
  },
  {
   "cell_type": "code",
   "execution_count": 56,
   "metadata": {},
   "outputs": [
    {
     "name": "stdout",
     "output_type": "stream",
     "text": [
      "CPU times: user 157 ms, sys: 19.9 ms, total: 177 ms\n",
      "Wall time: 191 ms\n"
     ]
    }
   ],
   "source": [
    "%time r=(mean_squared_error(target_test,model.predict(features_test)))**0.5"
   ]
  },
  {
   "cell_type": "code",
   "execution_count": 57,
   "metadata": {},
   "outputs": [],
   "source": [
    "rmse.append(r)"
   ]
  },
  {
   "cell_type": "code",
   "execution_count": 58,
   "metadata": {},
   "outputs": [
    {
     "name": "stdout",
     "output_type": "stream",
     "text": [
      "Rmse: 2895.0639624566625\n"
     ]
    }
   ],
   "source": [
    "print('Rmse:',r)"
   ]
  },
  {
   "cell_type": "markdown",
   "metadata": {},
   "source": [
    "By coding of Model and Brand columns do you mean the code to reduce the number of categories in Model and Brand column or OHE? And please suggest a method because I could not make RF perform better than LR. \\\n",
    "At first I thought that Model column covers the information Brand column provides to models but removing Brand increased rmse for all models."
   ]
  },
  {
   "cell_type": "code",
   "execution_count": 59,
   "metadata": {},
   "outputs": [],
   "source": [
    "scaler=StandardScaler()\n",
    "scaler.fit(features_train[numerical_features])\n",
    "features_train[numerical_features]=scaler.transform(features_train[numerical_features])\n",
    "features_test[numerical_features]=scaler.transform(features_test[numerical_features])"
   ]
  },
  {
   "cell_type": "code",
   "execution_count": 60,
   "metadata": {},
   "outputs": [],
   "source": [
    "del scaler, model, r"
   ]
  },
  {
   "cell_type": "code",
   "execution_count": 61,
   "metadata": {},
   "outputs": [],
   "source": [
    "#Linear Regression for sanity check\n",
    "lr=LinearRegression()"
   ]
  },
  {
   "cell_type": "code",
   "execution_count": 62,
   "metadata": {},
   "outputs": [
    {
     "name": "stdout",
     "output_type": "stream",
     "text": [
      "CPU times: user 5.14 s, sys: 1.67 s, total: 6.8 s\n",
      "Wall time: 6.78 s\n"
     ]
    },
    {
     "data": {
      "text/plain": [
       "LinearRegression(copy_X=True, fit_intercept=True, n_jobs=None, normalize=False)"
      ]
     },
     "execution_count": 62,
     "metadata": {},
     "output_type": "execute_result"
    }
   ],
   "source": [
    "%time lr.fit(features_train,target_train)"
   ]
  },
  {
   "cell_type": "code",
   "execution_count": 63,
   "metadata": {},
   "outputs": [],
   "source": [
    "train_time.append('15.1 s')"
   ]
  },
  {
   "cell_type": "code",
   "execution_count": 64,
   "metadata": {},
   "outputs": [],
   "source": [
    "del features_train, target_train"
   ]
  },
  {
   "cell_type": "code",
   "execution_count": 65,
   "metadata": {},
   "outputs": [
    {
     "name": "stdout",
     "output_type": "stream",
     "text": [
      "CPU times: user 63.5 ms, sys: 48.3 ms, total: 112 ms\n",
      "Wall time: 101 ms\n"
     ]
    }
   ],
   "source": [
    "%time pred=lr.predict(features_test)"
   ]
  },
  {
   "cell_type": "code",
   "execution_count": 66,
   "metadata": {},
   "outputs": [],
   "source": [
    "pred_time.append('157 ms')"
   ]
  },
  {
   "cell_type": "code",
   "execution_count": 67,
   "metadata": {},
   "outputs": [
    {
     "name": "stdout",
     "output_type": "stream",
     "text": [
      "Rmse 2796.105226339606\n",
      "CPU times: user 2.43 ms, sys: 0 ns, total: 2.43 ms\n",
      "Wall time: 1.77 ms\n"
     ]
    }
   ],
   "source": [
    "%%time\n",
    "r=(mean_squared_error(target_test,pred))**0.5\n",
    "print('Rmse',r)"
   ]
  },
  {
   "cell_type": "code",
   "execution_count": 68,
   "metadata": {},
   "outputs": [],
   "source": [
    "rmse.append(r)"
   ]
  },
  {
   "cell_type": "code",
   "execution_count": 69,
   "metadata": {},
   "outputs": [],
   "source": [
    "del features_test, target_test"
   ]
  },
  {
   "cell_type": "markdown",
   "metadata": {},
   "source": [
    "#### LightGBM"
   ]
  },
  {
   "cell_type": "code",
   "execution_count": 70,
   "metadata": {},
   "outputs": [],
   "source": [
    "\n",
    "x=data.drop(['Price','DateCreated','DateCrawled','LastSeen','PostalCode'],axis=1)\n",
    "y=data['Price']\n",
    "for col in cat_features:\n",
    "    x[col]=x[col].astype('category')\n",
    "\n",
    "x_train,x_test,y_train,y_test=train_test_split(x,y,test_size=0.25,random_state=12345)\n",
    "lgb_train=lgb.Dataset(x_train,y_train,categorical_feature=cat_features)\n",
    "lgb_test=lgb.Dataset(x_test,y_test,reference=lgb_train)\n",
    "param={'learning_rate':0.3,'max_depth':2,'metric':'rmse'}\n"
   ]
  },
  {
   "cell_type": "code",
   "execution_count": 71,
   "metadata": {},
   "outputs": [
    {
     "name": "stderr",
     "output_type": "stream",
     "text": [
      "/opt/conda/lib/python3.7/site-packages/lightgbm/basic.py:1291: UserWarning: Using categorical_feature in Dataset.\n",
      "  warnings.warn('Using categorical_feature in Dataset.')\n",
      "/opt/conda/lib/python3.7/site-packages/lightgbm/basic.py:1295: UserWarning: categorical_feature in Dataset is overridden.\n",
      "New categorical_feature is ['Brand', 'FuelType', 'Gearbox', 'Mileage', 'Model', 'NotRepaired', 'NumberOfPictures', 'RegistrationMonth', 'RegistrationYear', 'VehicleType']\n",
      "  'New categorical_feature is {}'.format(sorted(list(categorical_feature))))\n"
     ]
    },
    {
     "name": "stdout",
     "output_type": "stream",
     "text": [
      "[10]\ttrain's rmse: 2246.5\teval's rmse: 2240.93\n",
      "[20]\ttrain's rmse: 1998.24\teval's rmse: 1997.26\n",
      "[30]\ttrain's rmse: 1925.56\teval's rmse: 1925.75\n",
      "[40]\ttrain's rmse: 1895.9\teval's rmse: 1895.64\n",
      "[50]\ttrain's rmse: 1865.03\teval's rmse: 1863.88\n",
      "[60]\ttrain's rmse: 1838.51\teval's rmse: 1837.94\n",
      "[70]\ttrain's rmse: 1822\teval's rmse: 1821.68\n",
      "[80]\ttrain's rmse: 1804.88\teval's rmse: 1804.79\n",
      "[90]\ttrain's rmse: 1794.56\teval's rmse: 1795.48\n",
      "[100]\ttrain's rmse: 1786.31\teval's rmse: 1787.41\n",
      "CPU times: user 56.1 s, sys: 340 ms, total: 56.4 s\n",
      "Wall time: 57 s\n"
     ]
    }
   ],
   "source": [
    "%%time \n",
    "light=lgb.train(params=param,train_set=lgb_train,valid_sets=[lgb_train,lgb_test],\n",
    "              valid_names=['train','eval'],verbose_eval=10)\n"
   ]
  },
  {
   "cell_type": "code",
   "execution_count": 72,
   "metadata": {},
   "outputs": [],
   "source": [
    "train_time.append('51.3 s')"
   ]
  },
  {
   "cell_type": "code",
   "execution_count": 73,
   "metadata": {},
   "outputs": [
    {
     "name": "stdout",
     "output_type": "stream",
     "text": [
      "CPU times: user 474 ms, sys: 105 µs, total: 474 ms\n",
      "Wall time: 436 ms\n"
     ]
    }
   ],
   "source": [
    "%time pred=light.predict(x_test)"
   ]
  },
  {
   "cell_type": "code",
   "execution_count": 74,
   "metadata": {},
   "outputs": [],
   "source": [
    "pred_time.append('493 ms')"
   ]
  },
  {
   "cell_type": "code",
   "execution_count": 75,
   "metadata": {},
   "outputs": [
    {
     "name": "stdout",
     "output_type": "stream",
     "text": [
      "CPU times: user 1.48 ms, sys: 20 µs, total: 1.5 ms\n",
      "Wall time: 1.13 ms\n"
     ]
    }
   ],
   "source": [
    "%time r=(mean_squared_error(y_test,pred))**0.5"
   ]
  },
  {
   "cell_type": "code",
   "execution_count": 76,
   "metadata": {},
   "outputs": [
    {
     "data": {
      "text/plain": [
       "1787.4053357337918"
      ]
     },
     "execution_count": 76,
     "metadata": {},
     "output_type": "execute_result"
    }
   ],
   "source": [
    "r"
   ]
  },
  {
   "cell_type": "code",
   "execution_count": 77,
   "metadata": {},
   "outputs": [],
   "source": [
    "rmse.append(r)"
   ]
  },
  {
   "cell_type": "markdown",
   "metadata": {},
   "source": [
    "#### Catboost"
   ]
  },
  {
   "cell_type": "code",
   "execution_count": 78,
   "metadata": {},
   "outputs": [],
   "source": [
    "data['Gearbox']=data['Gearbox'].astype(str)\n",
    "data['Model']=data['Model'].astype(str)\n",
    "data['FuelType']=data['FuelType'].astype(str)\n",
    "#data['DateCreated']=data['DateCreated'].astype(str)\n",
    "data['VehicleType']=data['VehicleType'].astype(str)\n",
    "data['NotRepaired']=data['NotRepaired'].astype(str)\n",
    "#data['Brand']=data['Brand'].astype(str)"
   ]
  },
  {
   "cell_type": "code",
   "execution_count": 79,
   "metadata": {},
   "outputs": [],
   "source": [
    "#CatBoost\n",
    "x=data.drop(['Price','DateCreated','DateCrawled','LastSeen','PostalCode'],axis=1)\n",
    "y=data['Price']\n",
    "x_train,x_test,y_train,y_test=train_test_split(x,y,test_size=0.25,random_state=12345)"
   ]
  },
  {
   "cell_type": "code",
   "execution_count": 80,
   "metadata": {},
   "outputs": [],
   "source": [
    "cbr=CatBoostRegressor(learning_rate=0.3,max_depth=2,verbose=10,iterations=100,cat_features=cat_features)"
   ]
  },
  {
   "cell_type": "code",
   "execution_count": 81,
   "metadata": {},
   "outputs": [
    {
     "name": "stdout",
     "output_type": "stream",
     "text": [
      "0:\tlearn: 3897.4246814\ttest: 3886.3480265\tbest: 3886.3480265 (0)\ttotal: 324ms\tremaining: 32.1s\n",
      "10:\tlearn: 2390.5455866\ttest: 2380.6726853\tbest: 2380.6726853 (10)\ttotal: 2.41s\tremaining: 19.5s\n",
      "20:\tlearn: 2152.2715560\ttest: 2145.5104434\tbest: 2145.5104434 (20)\ttotal: 4.21s\tremaining: 15.8s\n",
      "30:\tlearn: 2070.6081536\ttest: 2062.6645698\tbest: 2062.6645698 (30)\ttotal: 6s\tremaining: 13.3s\n",
      "40:\tlearn: 2009.9274671\ttest: 1999.6048231\tbest: 1999.6048231 (40)\ttotal: 7.79s\tremaining: 11.2s\n",
      "50:\tlearn: 1970.3116072\ttest: 1960.6964427\tbest: 1960.6964427 (50)\ttotal: 9.58s\tremaining: 9.2s\n",
      "60:\tlearn: 1940.7717312\ttest: 1929.9297764\tbest: 1929.9297764 (60)\ttotal: 11.4s\tremaining: 7.27s\n",
      "70:\tlearn: 1924.3554276\ttest: 1914.1128002\tbest: 1914.1128002 (70)\ttotal: 13.2s\tremaining: 5.38s\n",
      "80:\tlearn: 1909.0438007\ttest: 1897.8479172\tbest: 1897.8479172 (80)\ttotal: 14.9s\tremaining: 3.51s\n",
      "90:\tlearn: 1897.1904326\ttest: 1885.9198671\tbest: 1885.9198671 (90)\ttotal: 16.7s\tremaining: 1.65s\n",
      "99:\tlearn: 1886.1948712\ttest: 1873.6295161\tbest: 1873.6295161 (99)\ttotal: 18.2s\tremaining: 0us\n",
      "\n",
      "bestTest = 1873.629516\n",
      "bestIteration = 99\n",
      "\n",
      "CPU times: user 18.1 s, sys: 1.84 s, total: 19.9 s\n",
      "Wall time: 21.6 s\n"
     ]
    },
    {
     "data": {
      "text/plain": [
       "<catboost.core.CatBoostRegressor at 0x7f42d65e3cd0>"
      ]
     },
     "execution_count": 81,
     "metadata": {},
     "output_type": "execute_result"
    }
   ],
   "source": [
    "%time cbr.fit(x_train,y_train,eval_set=(x_test,y_test))"
   ]
  },
  {
   "cell_type": "code",
   "execution_count": 82,
   "metadata": {},
   "outputs": [],
   "source": [
    "train_time.append('22.1 s')"
   ]
  },
  {
   "cell_type": "code",
   "execution_count": 83,
   "metadata": {},
   "outputs": [
    {
     "name": "stdout",
     "output_type": "stream",
     "text": [
      "CPU times: user 295 ms, sys: 16.3 ms, total: 312 ms\n",
      "Wall time: 280 ms\n"
     ]
    }
   ],
   "source": [
    "%time pred=cbr.predict(x_test)"
   ]
  },
  {
   "cell_type": "code",
   "execution_count": 84,
   "metadata": {},
   "outputs": [],
   "source": [
    "pred_time.append('291 ms')"
   ]
  },
  {
   "cell_type": "code",
   "execution_count": 85,
   "metadata": {},
   "outputs": [],
   "source": [
    "r=(mean_squared_error(y_test,pred))**0.5"
   ]
  },
  {
   "cell_type": "code",
   "execution_count": 86,
   "metadata": {},
   "outputs": [
    {
     "data": {
      "text/plain": [
       "1873.6295160539958"
      ]
     },
     "execution_count": 86,
     "metadata": {},
     "output_type": "execute_result"
    }
   ],
   "source": [
    "r"
   ]
  },
  {
   "cell_type": "code",
   "execution_count": 87,
   "metadata": {},
   "outputs": [],
   "source": [
    "rmse.append(r)"
   ]
  },
  {
   "cell_type": "markdown",
   "metadata": {},
   "source": [
    "# 3. Model analysis"
   ]
  },
  {
   "cell_type": "code",
   "execution_count": 88,
   "metadata": {},
   "outputs": [],
   "source": [
    "train_time=pd.Series(train_time,name='train_time')\n",
    "pred_time=pd.Series(pred_time,name='pred_time')\n",
    "rmse=pd.Series(rmse,name='rmse')\n",
    "df=pd.concat((train_time,pred_time,rmse),axis=1)\n",
    "df.index=['XgBoost','RandomForest','LinearRegression','LightGBM','CatBoost']"
   ]
  },
  {
   "cell_type": "code",
   "execution_count": 89,
   "metadata": {},
   "outputs": [
    {
     "data": {
      "text/html": [
       "<div>\n",
       "<style scoped>\n",
       "    .dataframe tbody tr th:only-of-type {\n",
       "        vertical-align: middle;\n",
       "    }\n",
       "\n",
       "    .dataframe tbody tr th {\n",
       "        vertical-align: top;\n",
       "    }\n",
       "\n",
       "    .dataframe thead th {\n",
       "        text-align: right;\n",
       "    }\n",
       "</style>\n",
       "<table border=\"1\" class=\"dataframe\">\n",
       "  <thead>\n",
       "    <tr style=\"text-align: right;\">\n",
       "      <th></th>\n",
       "      <th>train_time</th>\n",
       "      <th>pred_time</th>\n",
       "      <th>rmse</th>\n",
       "    </tr>\n",
       "  </thead>\n",
       "  <tbody>\n",
       "    <tr>\n",
       "      <td>XgBoost</td>\n",
       "      <td>16.9 s</td>\n",
       "      <td>1.02 ms</td>\n",
       "      <td>2400.909656</td>\n",
       "    </tr>\n",
       "    <tr>\n",
       "      <td>RandomForest</td>\n",
       "      <td>33.4 s</td>\n",
       "      <td>218 ms</td>\n",
       "      <td>2895.063962</td>\n",
       "    </tr>\n",
       "    <tr>\n",
       "      <td>LinearRegression</td>\n",
       "      <td>15.1 s</td>\n",
       "      <td>157 ms</td>\n",
       "      <td>2796.105226</td>\n",
       "    </tr>\n",
       "    <tr>\n",
       "      <td>LightGBM</td>\n",
       "      <td>51.3 s</td>\n",
       "      <td>493 ms</td>\n",
       "      <td>1787.405336</td>\n",
       "    </tr>\n",
       "    <tr>\n",
       "      <td>CatBoost</td>\n",
       "      <td>22.1 s</td>\n",
       "      <td>291 ms</td>\n",
       "      <td>1873.629516</td>\n",
       "    </tr>\n",
       "  </tbody>\n",
       "</table>\n",
       "</div>"
      ],
      "text/plain": [
       "                 train_time pred_time         rmse\n",
       "XgBoost              16.9 s   1.02 ms  2400.909656\n",
       "RandomForest         33.4 s    218 ms  2895.063962\n",
       "LinearRegression     15.1 s    157 ms  2796.105226\n",
       "LightGBM             51.3 s    493 ms  1787.405336\n",
       "CatBoost             22.1 s    291 ms  1873.629516"
      ]
     },
     "execution_count": 89,
     "metadata": {},
     "output_type": "execute_result"
    }
   ],
   "source": [
    "df"
   ]
  },
  {
   "cell_type": "markdown",
   "metadata": {},
   "source": [
    "Train_time and pred_time change in every run."
   ]
  },
  {
   "cell_type": "markdown",
   "metadata": {},
   "source": [
    "### Conclusion"
   ]
  },
  {
   "cell_type": "markdown",
   "metadata": {},
   "source": [
    "LightGBM gives the best prediction with least RMSE followed by Catboost.All models perform better than the baseline model (Linear Regression) except for RandomForest which has the highest RMSE. "
   ]
  },
  {
   "cell_type": "markdown",
   "metadata": {},
   "source": [
    "LightGBM trains the fastest. RandomForest takes much longer than all other models to train probably because of high number of trees."
   ]
  },
  {
   "cell_type": "markdown",
   "metadata": {},
   "source": [
    "Xgboost is much faster at making predictions compared to all other models whereas LightGBM takes the longest for making predictions."
   ]
  }
 ],
 "metadata": {
  "kernelspec": {
   "display_name": "Python 3",
   "language": "python",
   "name": "python3"
  },
  "language_info": {
   "codemirror_mode": {
    "name": "ipython",
    "version": 3
   },
   "file_extension": ".py",
   "mimetype": "text/x-python",
   "name": "python",
   "nbconvert_exporter": "python",
   "pygments_lexer": "ipython3",
   "version": "3.7.6"
  }
 },
 "nbformat": 4,
 "nbformat_minor": 2
}
